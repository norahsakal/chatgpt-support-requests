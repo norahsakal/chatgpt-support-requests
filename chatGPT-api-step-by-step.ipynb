{
 "cells": [
  {
   "cell_type": "markdown",
   "id": "e2098ba8",
   "metadata": {},
   "source": [
    "# How to use ChatGPT API to build a chatbot service to handle and answer support requests"
   ]
  },
  {
   "cell_type": "markdown",
   "id": "8c73b49b",
   "metadata": {},
   "source": [
    "**Exciting news!** OpenAI just released the ChatGPT API, here's how you can build yourself a chatbot service that answers support requests for your app or SaaS.\n",
    "\n",
    "Detailed step-by-step intructions for this repo in this blog post: https://norahsakal.com/blog/chatgpt-support-requests\n",
    "\n",
    "### Important\n",
    "If you already have `openai` installed, make sure to call `pip install openai --upgrade` in your terminal to make sure you have access to version `0.27.0` which has the newly added **gpt-3.5-turbo model**.\n",
    "\n",
    "---"
   ]
  },
  {
   "cell_type": "markdown",
   "id": "7f1501bc",
   "metadata": {},
   "source": [
    "### Difference between ChatGPT and GPT-3 API\n",
    "ChatGPT is OpenAI's new model family designed specifically for chat-based interactions. \n",
    "\n",
    "Unlike the larger GPT-3 model, ChatGPT can consume a sequence of messages with metadata, which allows for more contextual understanding of conversations. \n",
    "\n",
    "Plus, the ChatGPT API is currently priced at only $0.002 per 1k tokens, which is 10x cheaper than the existing GPT-3.5 models.\n",
    "\n",
    "So if you're looking to build a chatbot for support requests, ChatGPT is definitely worth considering."
   ]
  },
  {
   "cell_type": "code",
   "execution_count": null,
   "id": "85ba4280",
   "metadata": {},
   "outputs": [],
   "source": [
    "import requests\n",
    "import openai"
   ]
  },
  {
   "cell_type": "markdown",
   "id": "469dfeb7",
   "metadata": {},
   "source": [
    "# Define OpenAI API keys"
   ]
  },
  {
   "cell_type": "code",
   "execution_count": null,
   "id": "5b9906f4",
   "metadata": {},
   "outputs": [],
   "source": [
    "api_key =\"YOUR_OPENAI_API_KEY\"\n",
    "openai.api_key = api_key"
   ]
  },
  {
   "cell_type": "markdown",
   "id": "98ca3a6c",
   "metadata": {},
   "source": [
    "# Create FAQ data"
   ]
  },
  {
   "cell_type": "markdown",
   "id": "ca2e6f39",
   "metadata": {},
   "source": [
    "Create the FAQ data you'll use as input and prompt.\n",
    "\n",
    ">**💡 Tip: Automate question-answer writing 💡**\n",
    ">\n",
    ">I used this prompt to generate FAQ questions for this guide:\n",
    ">\n",
    ">\"Give me some made-up questions a user might have while using a SaaS, also write made-up answers to each question, make all the questions about Billing and Subscription\""
   ]
  },
  {
   "cell_type": "code",
   "execution_count": null,
   "id": "7be06da7",
   "metadata": {},
   "outputs": [],
   "source": [
    "faq_data = [{\n",
    "    \"question\": \"How can I get a copy of my invoice or receipt for my subscription payment?\",\n",
    "    \"answer\": \"To obtain a copy of your invoice or receipt for your subscription payment, simply log in to your account and navigate to the 'Billing' section. From there, you can view and download your past invoices and receipts.\"\n",
    "},\n",
    "{\n",
    "    \"question\": \"How do I update my payment method for my subscription?\",\n",
    "    \"answer\": \"To update your payment method for your subscription, log in to your account and go to the 'Billing' section. From there, you can add, remove, or modify your payment method. Be sure to save your changes to ensure that your subscription remains active.\"\n",
    "},{\n",
    "    \"question\": \"Can I switch to a different pricing plan or downgrade my subscription?\",\n",
    "    \"answer\": \"Yes, you can switch to a different pricing plan or downgrade your subscription at any time. Simply log in to your account and go to the 'Billing' section. From there, you can view and select your desired plan. Please note that if you downgrade your subscription, you may lose access to certain features or services that were available in your previous plan. Additionally, any price changes will take effect at the next billing cycle.\"\n",
    "}]"
   ]
  },
  {
   "cell_type": "markdown",
   "id": "119de2f8",
   "metadata": {},
   "source": [
    "# Create an array of message objects"
   ]
  },
  {
   "cell_type": "markdown",
   "id": "5abd47d9",
   "metadata": {},
   "source": [
    "Create the message objects needed as input for the ChatGPT completion function.\n",
    "\n",
    ">**From the Chat completion documentation:**\n",
    ">\n",
    ">\"The main input is the messages parameter. Messages must be an array of message objects, where each object has a role (either “system”, “user”, or “assistant”) and content (the content of the message). Conversations can be as short as 1 message or fill many pages.\" https://platform.openai.com/docs/guides/chat/introduction"
   ]
  },
  {
   "cell_type": "code",
   "execution_count": null,
   "id": "3d2fe2f9",
   "metadata": {},
   "outputs": [],
   "source": [
    "message_objects = []\n",
    "for faq in faq_data:\n",
    "    message_objects.append({\n",
    "        \"role\": \"user\", \"content\": faq['question']\n",
    "    })\n",
    "    message_objects.append({\n",
    "        \"role\": \"assistant\", \"content\": faq['answer']\n",
    "    })\n",
    "message_objects"
   ]
  },
  {
   "cell_type": "markdown",
   "id": "ce55f09f",
   "metadata": {},
   "source": [
    "# Create new prompt"
   ]
  },
  {
   "cell_type": "markdown",
   "id": "e562f023",
   "metadata": {},
   "source": [
    "Create a new prompt which we'll then append to the `message_object`"
   ]
  },
  {
   "cell_type": "code",
   "execution_count": null,
   "id": "695c2bd3",
   "metadata": {},
   "outputs": [],
   "source": [
    "new_prompt = \"How do I switch to a new credit card?\""
   ]
  },
  {
   "cell_type": "markdown",
   "id": "250046e8",
   "metadata": {},
   "source": [
    "# Append the new prompt to the message objects"
   ]
  },
  {
   "cell_type": "markdown",
   "id": "e07aecbd",
   "metadata": {},
   "source": [
    "Append the new prompt to the `message_object` we already created."
   ]
  },
  {
   "cell_type": "code",
   "execution_count": null,
   "id": "e3b7e48f",
   "metadata": {},
   "outputs": [],
   "source": [
    "message_objects.append({\"role\":\"user\", \"content\":new_prompt})\n",
    "message_objects"
   ]
  },
  {
   "cell_type": "markdown",
   "id": "cc28c1a2",
   "metadata": {},
   "source": [
    "# Create new completion"
   ]
  },
  {
   "cell_type": "markdown",
   "id": "172037d3",
   "metadata": {},
   "source": [
    "Test your chatbot service with our new prompt. \n",
    "\n",
    "Call the `openai.ChatCompletion.create` function with the new prompt.\n",
    "\n",
    "The model's reply can be extracted with `response['choices'][0]['message']['content']`"
   ]
  },
  {
   "cell_type": "code",
   "execution_count": null,
   "id": "dbd30782",
   "metadata": {},
   "outputs": [],
   "source": [
    "response = openai.ChatCompletion.create(\n",
    "  model=\"gpt-3.5-turbo\",\n",
    "  messages=message_objects\n",
    ")\n",
    "response['choices'][0]['message']['content']"
   ]
  }
 ],
 "metadata": {
  "kernelspec": {
   "display_name": "Python 3",
   "language": "python",
   "name": "python3"
  },
  "language_info": {
   "codemirror_mode": {
    "name": "ipython",
    "version": 3
   },
   "file_extension": ".py",
   "mimetype": "text/x-python",
   "name": "python",
   "nbconvert_exporter": "python",
   "pygments_lexer": "ipython3",
   "version": "3.8.5"
  }
 },
 "nbformat": 4,
 "nbformat_minor": 5
}
